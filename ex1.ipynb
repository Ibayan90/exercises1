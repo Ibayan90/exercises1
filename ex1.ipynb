{
  "nbformat": 4,
  "nbformat_minor": 0,
  "metadata": {
    "colab": {
      "provenance": []
    },
    "kernelspec": {
      "name": "python3",
      "display_name": "Python 3"
    },
    "language_info": {
      "name": "python"
    }
  },
  "cells": [
    {
      "cell_type": "markdown",
      "source": [
        "exercise(1):\n",
        "1. Print the values of x,y and z.\n",
        "2. Define a variable to store the value of π (pi).\n",
        "3. Discuss defining constant in python?\n",
        "Fixed values such as numbers, letters, and strings, are called\n",
        "“constants” because their value does not change\n",
        "• Numeric constants are as you expect\n",
        "• String constants use single quotes (')\n",
        "or double quotes (\")"
      ],
      "metadata": {
        "id": "klDQPs83Pkca"
      }
    },
    {
      "cell_type": "code",
      "source": [
        "#1:\n",
        "x=12.2\n",
        "y=14\n",
        "z=65\n",
        "print(x)\n",
        "print(y)\n",
        "print(z)"
      ],
      "metadata": {
        "colab": {
          "base_uri": "https://localhost:8080/"
        },
        "id": "fQjFiadGPqrC",
        "outputId": "f3b542b4-fd39-4c31-f1b5-43d952d767a9"
      },
      "execution_count": 2,
      "outputs": [
        {
          "output_type": "stream",
          "name": "stdout",
          "text": [
            "12.2\n",
            "14\n",
            "65\n"
          ]
        }
      ]
    },
    {
      "cell_type": "code",
      "source": [
        "#2\n",
        "import math\n",
        "pi=math.pi\n",
        "print(pi)"
      ],
      "metadata": {
        "colab": {
          "base_uri": "https://localhost:8080/"
        },
        "id": "DyIXKTpyQ518",
        "outputId": "97e26fe3-faaa-44cd-9259-c9e8ab0a7e48"
      },
      "execution_count": 5,
      "outputs": [
        {
          "output_type": "stream",
          "name": "stdout",
          "text": [
            "3.141592653589793\n"
          ]
        }
      ]
    },
    {
      "cell_type": "markdown",
      "source": [
        "Exercise (2):\n",
        " What is the function of the secondary memory in a computer?\n",
        "- Store information for the long term, even beyond a power cycle\n",
        "\n",
        " --What is a program?\n",
        "\n",
        " A program is a set of instructions written in a programming language that tells a computer what to do. These instructions are designed to perform specific tasks or solve problems when executed by the computer's processor. Programs can range from simple scripts to complex applications.\n",
        "\n",
        " --What is the difference between a compiler and an interpreter?\n",
        "\n",
        " >Compiler:Translates the entire program into machine code before execution\n",
        "\n",
        " >Interpreter:Translates and executes the program line by line.\n",
        "\n",
        " Which of the following contains “machine code”?\n",
        "\n",
        " >The Python interpreter\n",
        "\n",
        " What is wrong with the following code:\n",
        "\n",
        "> primt 'Hello world!'\n",
        "File \"<stdin>\", line 1\n",
        "primt 'Hello world!'\n",
        "ˆ\n",
        "SyntaxError: invalid syntax\n",
        "\n",
        " >>The issue in the code is a spelling error. The correct function to display text in Python is print, not primt.\n",
        "\n",
        " >print('Hello world!')\n",
        "\n"
      ],
      "metadata": {
        "id": "LY6dx3qWTBSg"
      }
    },
    {
      "cell_type": "code",
      "source": [
        "print('Hello world!')"
      ],
      "metadata": {
        "colab": {
          "base_uri": "https://localhost:8080/"
        },
        "id": "VsjF1K44VkTO",
        "outputId": "a8485455-6fc2-48f4-f781-52902e7fed2d"
      },
      "execution_count": 6,
      "outputs": [
        {
          "output_type": "stream",
          "name": "stdout",
          "text": [
            "Hello world!\n"
          ]
        }
      ]
    },
    {
      "cell_type": "markdown",
      "source": [
        "Where in the computer is a variable such as “x” stored after the\n",
        "following Python line finishes?\n",
        "\n",
        "x = 123\n",
        "\n",
        "Main Memory"
      ],
      "metadata": {
        "id": "JGeDBCSoV0W4"
      }
    },
    {
      "cell_type": "code",
      "source": [
        "x = 43\n",
        "x = x - 1\n",
        "print(x)"
      ],
      "metadata": {
        "colab": {
          "base_uri": "https://localhost:8080/"
        },
        "id": "fvQQdhHnWGAO",
        "outputId": "f715a0a3-cc61-48f7-a4e2-b654a3825f52"
      },
      "execution_count": 7,
      "outputs": [
        {
          "output_type": "stream",
          "name": "stdout",
          "text": [
            "42\n"
          ]
        }
      ]
    },
    {
      "cell_type": "markdown",
      "source": [
        "Explain each of the following using an example of a human capability:\n",
        "(1) Central processing unit, (2) Main Memory, (3) Secondary Memory, (4) Input\n",
        "Device, and (5) Output Device. For example, “What is the human equivalent to a\n",
        "Central Processing Unit”?\n",
        "\n",
        ">Central Processing Unit (CPU):\n",
        "\n",
        "The CPU is like the human brain. It processes and executes instructions, making decisions and performing calculations.\n",
        "Example: When you solve a math problem in your head, your brain acts as the CPU.\n",
        "\n",
        ">Main Memory (RAM):\n",
        "\n",
        "Main memory is like short-term memory in a human. It holds information that you are currently working on.\n",
        "Example: When you memorize a phone number briefly to dial it, your brain's short-term memory is acting like RAM.\n",
        "\n",
        ">Secondary Memory:\n",
        "\n",
        "Secondary memory is like long-term memory in a human. It stores information for later use, even when you are not actively thinking about it.\n",
        "Example: Remembering a childhood memory or storing notes in a notebook.\n",
        "\n",
        ">Input Device:\n",
        "\n",
        "An input device is like human senses (e.g., eyes, ears, touch). It gathers information from the environment and sends it to the brain for processing.\n",
        "Example: Your eyes reading a book or your ears listening to music.\n",
        "\n",
        ">Output Device:\n",
        "\n",
        "An output device is like human actions or communication. It provides results or responses to the environment.\n",
        "Example: Speaking, writing, or typing a response to someone.\n",
        "\n",
        "\n",
        "\n",
        "\n",
        "\n"
      ],
      "metadata": {
        "id": "5bS2qGUNWRd9"
      }
    },
    {
      "cell_type": "code",
      "source": [
        "Hours=float(input(\"Enter Hours: \" ))\n",
        "Rate=float(input(\"Enter Rate: \"))\n",
        "Pay=Hours*Rate\n",
        "print(\"Pay:\" ,Pay)"
      ],
      "metadata": {
        "colab": {
          "base_uri": "https://localhost:8080/"
        },
        "id": "f45I2VoiXl95",
        "outputId": "7be1f1e5-9987-407d-b1c8-835fb54e87c7"
      },
      "execution_count": 17,
      "outputs": [
        {
          "output_type": "stream",
          "name": "stdout",
          "text": [
            "Enter Hours: 35\n",
            "Enter Rate: 2.75\n",
            "Pay: 96.25\n"
          ]
        }
      ]
    },
    {
      "cell_type": "code",
      "source": [],
      "metadata": {
        "id": "f-OSyQLRYVM6"
      },
      "execution_count": null,
      "outputs": []
    }
  ]
}